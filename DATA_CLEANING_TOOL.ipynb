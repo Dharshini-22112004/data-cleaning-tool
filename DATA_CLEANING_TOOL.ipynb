{
  "nbformat": 4,
  "nbformat_minor": 0,
  "metadata": {
    "colab": {
      "provenance": [],
      "authorship_tag": "ABX9TyMNgrxG40JiJ2eKkqhp1vDP",
      "include_colab_link": true
    },
    "kernelspec": {
      "name": "python3",
      "display_name": "Python 3"
    },
    "language_info": {
      "name": "python"
    }
  },
  "cells": [
    {
      "cell_type": "markdown",
      "metadata": {
        "id": "view-in-github",
        "colab_type": "text"
      },
      "source": [
        "<a href=\"https://colab.research.google.com/github/Dharshini-22112004/data-cleaning-tool/blob/main/DATA_CLEANING_TOOL.ipynb\" target=\"_parent\"><img src=\"https://colab.research.google.com/assets/colab-badge.svg\" alt=\"Open In Colab\"/></a>"
      ]
    },
    {
      "cell_type": "code",
      "execution_count": 2,
      "metadata": {
        "colab": {
          "base_uri": "https://localhost:8080/"
        },
        "id": "4mNQvBXcZ4XD",
        "outputId": "cf752a70-10a2-4bde-f7dd-2e518b30408e"
      },
      "outputs": [
        {
          "output_type": "stream",
          "name": "stdout",
          "text": [
            "Requirement already satisfied: pandas in /usr/local/lib/python3.11/dist-packages (2.2.2)\n",
            "Requirement already satisfied: numpy in /usr/local/lib/python3.11/dist-packages (1.26.4)\n",
            "Requirement already satisfied: python-dateutil>=2.8.2 in /usr/local/lib/python3.11/dist-packages (from pandas) (2.8.2)\n",
            "Requirement already satisfied: pytz>=2020.1 in /usr/local/lib/python3.11/dist-packages (from pandas) (2025.1)\n",
            "Requirement already satisfied: tzdata>=2022.7 in /usr/local/lib/python3.11/dist-packages (from pandas) (2025.1)\n",
            "Requirement already satisfied: six>=1.5 in /usr/local/lib/python3.11/dist-packages (from python-dateutil>=2.8.2->pandas) (1.17.0)\n"
          ]
        }
      ],
      "source": [
        "!pip install pandas numpy"
      ]
    },
    {
      "cell_type": "code",
      "source": [
        "from google.colab import files\n",
        "\n",
        "# Manually upload the sample_data.csv file\n",
        "uploaded = files.upload()"
      ],
      "metadata": {
        "id": "Va7rMjj9bLGk",
        "outputId": "39cc6dd7-5704-4df2-9391-1f9695151444",
        "colab": {
          "base_uri": "https://localhost:8080/",
          "height": 73
        }
      },
      "execution_count": 1,
      "outputs": [
        {
          "output_type": "display_data",
          "data": {
            "text/plain": [
              "<IPython.core.display.HTML object>"
            ],
            "text/html": [
              "\n",
              "     <input type=\"file\" id=\"files-29e7d67a-e258-4952-8020-858305d413e3\" name=\"files[]\" multiple disabled\n",
              "        style=\"border:none\" />\n",
              "     <output id=\"result-29e7d67a-e258-4952-8020-858305d413e3\">\n",
              "      Upload widget is only available when the cell has been executed in the\n",
              "      current browser session. Please rerun this cell to enable.\n",
              "      </output>\n",
              "      <script>// Copyright 2017 Google LLC\n",
              "//\n",
              "// Licensed under the Apache License, Version 2.0 (the \"License\");\n",
              "// you may not use this file except in compliance with the License.\n",
              "// You may obtain a copy of the License at\n",
              "//\n",
              "//      http://www.apache.org/licenses/LICENSE-2.0\n",
              "//\n",
              "// Unless required by applicable law or agreed to in writing, software\n",
              "// distributed under the License is distributed on an \"AS IS\" BASIS,\n",
              "// WITHOUT WARRANTIES OR CONDITIONS OF ANY KIND, either express or implied.\n",
              "// See the License for the specific language governing permissions and\n",
              "// limitations under the License.\n",
              "\n",
              "/**\n",
              " * @fileoverview Helpers for google.colab Python module.\n",
              " */\n",
              "(function(scope) {\n",
              "function span(text, styleAttributes = {}) {\n",
              "  const element = document.createElement('span');\n",
              "  element.textContent = text;\n",
              "  for (const key of Object.keys(styleAttributes)) {\n",
              "    element.style[key] = styleAttributes[key];\n",
              "  }\n",
              "  return element;\n",
              "}\n",
              "\n",
              "// Max number of bytes which will be uploaded at a time.\n",
              "const MAX_PAYLOAD_SIZE = 100 * 1024;\n",
              "\n",
              "function _uploadFiles(inputId, outputId) {\n",
              "  const steps = uploadFilesStep(inputId, outputId);\n",
              "  const outputElement = document.getElementById(outputId);\n",
              "  // Cache steps on the outputElement to make it available for the next call\n",
              "  // to uploadFilesContinue from Python.\n",
              "  outputElement.steps = steps;\n",
              "\n",
              "  return _uploadFilesContinue(outputId);\n",
              "}\n",
              "\n",
              "// This is roughly an async generator (not supported in the browser yet),\n",
              "// where there are multiple asynchronous steps and the Python side is going\n",
              "// to poll for completion of each step.\n",
              "// This uses a Promise to block the python side on completion of each step,\n",
              "// then passes the result of the previous step as the input to the next step.\n",
              "function _uploadFilesContinue(outputId) {\n",
              "  const outputElement = document.getElementById(outputId);\n",
              "  const steps = outputElement.steps;\n",
              "\n",
              "  const next = steps.next(outputElement.lastPromiseValue);\n",
              "  return Promise.resolve(next.value.promise).then((value) => {\n",
              "    // Cache the last promise value to make it available to the next\n",
              "    // step of the generator.\n",
              "    outputElement.lastPromiseValue = value;\n",
              "    return next.value.response;\n",
              "  });\n",
              "}\n",
              "\n",
              "/**\n",
              " * Generator function which is called between each async step of the upload\n",
              " * process.\n",
              " * @param {string} inputId Element ID of the input file picker element.\n",
              " * @param {string} outputId Element ID of the output display.\n",
              " * @return {!Iterable<!Object>} Iterable of next steps.\n",
              " */\n",
              "function* uploadFilesStep(inputId, outputId) {\n",
              "  const inputElement = document.getElementById(inputId);\n",
              "  inputElement.disabled = false;\n",
              "\n",
              "  const outputElement = document.getElementById(outputId);\n",
              "  outputElement.innerHTML = '';\n",
              "\n",
              "  const pickedPromise = new Promise((resolve) => {\n",
              "    inputElement.addEventListener('change', (e) => {\n",
              "      resolve(e.target.files);\n",
              "    });\n",
              "  });\n",
              "\n",
              "  const cancel = document.createElement('button');\n",
              "  inputElement.parentElement.appendChild(cancel);\n",
              "  cancel.textContent = 'Cancel upload';\n",
              "  const cancelPromise = new Promise((resolve) => {\n",
              "    cancel.onclick = () => {\n",
              "      resolve(null);\n",
              "    };\n",
              "  });\n",
              "\n",
              "  // Wait for the user to pick the files.\n",
              "  const files = yield {\n",
              "    promise: Promise.race([pickedPromise, cancelPromise]),\n",
              "    response: {\n",
              "      action: 'starting',\n",
              "    }\n",
              "  };\n",
              "\n",
              "  cancel.remove();\n",
              "\n",
              "  // Disable the input element since further picks are not allowed.\n",
              "  inputElement.disabled = true;\n",
              "\n",
              "  if (!files) {\n",
              "    return {\n",
              "      response: {\n",
              "        action: 'complete',\n",
              "      }\n",
              "    };\n",
              "  }\n",
              "\n",
              "  for (const file of files) {\n",
              "    const li = document.createElement('li');\n",
              "    li.append(span(file.name, {fontWeight: 'bold'}));\n",
              "    li.append(span(\n",
              "        `(${file.type || 'n/a'}) - ${file.size} bytes, ` +\n",
              "        `last modified: ${\n",
              "            file.lastModifiedDate ? file.lastModifiedDate.toLocaleDateString() :\n",
              "                                    'n/a'} - `));\n",
              "    const percent = span('0% done');\n",
              "    li.appendChild(percent);\n",
              "\n",
              "    outputElement.appendChild(li);\n",
              "\n",
              "    const fileDataPromise = new Promise((resolve) => {\n",
              "      const reader = new FileReader();\n",
              "      reader.onload = (e) => {\n",
              "        resolve(e.target.result);\n",
              "      };\n",
              "      reader.readAsArrayBuffer(file);\n",
              "    });\n",
              "    // Wait for the data to be ready.\n",
              "    let fileData = yield {\n",
              "      promise: fileDataPromise,\n",
              "      response: {\n",
              "        action: 'continue',\n",
              "      }\n",
              "    };\n",
              "\n",
              "    // Use a chunked sending to avoid message size limits. See b/62115660.\n",
              "    let position = 0;\n",
              "    do {\n",
              "      const length = Math.min(fileData.byteLength - position, MAX_PAYLOAD_SIZE);\n",
              "      const chunk = new Uint8Array(fileData, position, length);\n",
              "      position += length;\n",
              "\n",
              "      const base64 = btoa(String.fromCharCode.apply(null, chunk));\n",
              "      yield {\n",
              "        response: {\n",
              "          action: 'append',\n",
              "          file: file.name,\n",
              "          data: base64,\n",
              "        },\n",
              "      };\n",
              "\n",
              "      let percentDone = fileData.byteLength === 0 ?\n",
              "          100 :\n",
              "          Math.round((position / fileData.byteLength) * 100);\n",
              "      percent.textContent = `${percentDone}% done`;\n",
              "\n",
              "    } while (position < fileData.byteLength);\n",
              "  }\n",
              "\n",
              "  // All done.\n",
              "  yield {\n",
              "    response: {\n",
              "      action: 'complete',\n",
              "    }\n",
              "  };\n",
              "}\n",
              "\n",
              "scope.google = scope.google || {};\n",
              "scope.google.colab = scope.google.colab || {};\n",
              "scope.google.colab._files = {\n",
              "  _uploadFiles,\n",
              "  _uploadFilesContinue,\n",
              "};\n",
              "})(self);\n",
              "</script> "
            ]
          },
          "metadata": {}
        },
        {
          "output_type": "stream",
          "name": "stdout",
          "text": [
            "Saving sampledata.csv to sampledata.csv\n"
          ]
        }
      ]
    },
    {
      "cell_type": "code",
      "source": [
        "file_path=\"sample_data.csv\"\n",
        "cleaner=DataCleaningTool(file_path)"
      ],
      "metadata": {
        "colab": {
          "base_uri": "https://localhost:8080/"
        },
        "id": "HTFLa0en2Lfy",
        "outputId": "f51ff7f7-5d1c-4520-a862-d5686a788268"
      },
      "execution_count": 5,
      "outputs": [
        {
          "output_type": "stream",
          "name": "stdout",
          "text": [
            "Data Loaded Successfully!\n"
          ]
        }
      ]
    },
    {
      "cell_type": "code",
      "source": [
        "import pandas as pd\n",
        "\n",
        "# Create a sample dataset\n",
        "data = {\n",
        "    \"Name\": [\"Alice\", \"Bob\", \"Charlie\", \"David\", \"Eve\", \"Alice\"],\n",
        "    \"Age\": [25, 30, None, 30, 22, 25],\n",
        "    \"Salary\": [50000, 60000, 70000, 60000, None, 50000]\n",
        "}\n",
        "\n",
        "# Convert to DataFrame and save as a CSV file\n",
        "df = pd.DataFrame(data)\n",
        "df.to_csv(\"sample_data.csv\", index=False)\n",
        "\n",
        "file_path = \"sample_data.csv\"\n",
        "cleaner = DataCleaningTool(file_path)\n"
      ],
      "metadata": {
        "colab": {
          "base_uri": "https://localhost:8080/"
        },
        "id": "Ri4veHR32LpJ",
        "outputId": "1ab1b3eb-f3d5-456e-dda5-8af2407ba326"
      },
      "execution_count": 6,
      "outputs": [
        {
          "output_type": "stream",
          "name": "stdout",
          "text": [
            "Data Loaded Successfully!\n"
          ]
        }
      ]
    },
    {
      "cell_type": "code",
      "source": [
        "import pandas as pd\n",
        "import numpy as np\n",
        "\n",
        "class DataCleaningTool:\n",
        "\n",
        "    def __init__(self, file_path):\n",
        "        \"\"\"Initialize the DataCleaningTool with the dataset.\"\"\"\n",
        "        self.df = pd.read_csv(file_path)\n",
        "        print(\"Data Loaded Successfully!\")\n",
        "\n",
        "    def show_basic_info(self):\n",
        "        \"\"\"Display basic information about the dataset.\"\"\"\n",
        "        print(\"\\nDataset Information:\")\n",
        "        print(self.df.info())\n",
        "        print(\"\\nFirst 5 Rows:\")\n",
        "        print(self.df.head())\n",
        "\n",
        "    def handle_missing_values(self, strategy='median', fill_value=None):\n",
        "        \"\"\"Handle missing values in the dataset.\"\"\"\n",
        "        print(\"\\nHandling Missing Values...\")\n",
        "        if strategy == 'mean':\n",
        "            self.df.fillna(self.df.mean(numeric_only=True), inplace=True)\n",
        "        elif strategy == 'median':\n",
        "            self.df.fillna(self.df.median(numeric_only=True), inplace=True)\n",
        "        elif strategy == 'mode':\n",
        "            self.df.fillna(self.df.mode().iloc[0], inplace=True)\n",
        "        elif strategy == 'constant':\n",
        "            self.df.fillna(fill_value, inplace=True)\n",
        "        else:\n",
        "            print(\"Invalid strategy! Choose from 'mean', 'median', 'mode', 'constant'.\")\n",
        "        print(\"Missing values handled with strategy:\", strategy)\n",
        "\n",
        "    def remove_duplicates(self):\n",
        "        \"\"\"Remove duplicate rows from the dataset.\"\"\"\n",
        "        print(\"\\nRemoving Duplicates...\")\n",
        "        before = self.df.shape[0]\n",
        "        self.df.drop_duplicates(inplace=True)\n",
        "        after = self.df.shape[0]\n",
        "        print(f\"Removed {before - after} duplicate rows.\")\n",
        "\n",
        "    def convert_data_types(self, column_type_dict):\n",
        "        \"\"\"Convert data types of specified columns.\"\"\"\n",
        "        print(\"\\nConverting Data Types...\")\n",
        "        for column, dtype in column_type_dict.items():\n",
        "            self.df[column] = self.df[column].astype(dtype)\n",
        "            print(f\"Converted {column} to {dtype}\")\n",
        "\n",
        "    def detect_and_remove_outliers(self, column, threshold=1.5):\n",
        "        \"\"\"Detect and remove outliers using the IQR method.\"\"\"\n",
        "        print(f\"\\nDetecting and Removing Outliers in {column}...\")\n",
        "        Q1 = self.df[column].quantile(0.25)\n",
        "        Q3 = self.df[column].quantile(0.75)\n",
        "        IQR = Q3 - Q1\n",
        "        lower_bound = Q1 - threshold * IQR\n",
        "        upper_bound = Q3 + threshold * IQR\n",
        "        before = self.df.shape[0]\n",
        "        self.df = self.df[(self.df[column] >= lower_bound) & (self.df[column] <= upper_bound)]\n",
        "        after = self.df.shape[0]\n",
        "        print(f\"Removed {before - after} outliers from {column}.\")\n",
        "\n",
        "    def standardize_column_names(self):\n",
        "        \"\"\"Standardize column names by making them lowercase and replacing spaces with underscores.\"\"\"\n",
        "        print(\"\\nStandardizing Column Names...\")\n",
        "        self.df.columns = self.df.columns.str.lower().str.replace(' ', '_')\n",
        "        print(\"Column names standardized!\")\n",
        "\n",
        "    def save_clean_data(self, output_file='cleaned_data.csv'):\n",
        "        \"\"\"Save the cleaned dataset to a CSV file.\"\"\"\n",
        "        print(f\"\\nSaving cleaned data to {output_file}...\")\n",
        "        self.df.to_csv(output_file, index=False)\n",
        "        print(\"Data saved successfully!\")\n"
      ],
      "metadata": {
        "id": "rGhqlrzp2LvZ"
      },
      "execution_count": 7,
      "outputs": []
    },
    {
      "cell_type": "code",
      "source": [
        "import pandas as pd\n",
        "\n",
        "# Check if the uploaded file is accessible\n",
        "uploaded_file_path = \"sample_data.csv\"  # Make sure the file name matches exactly\n",
        "try:\n",
        "    df = pd.read_csv(uploaded_file_path)\n",
        "    print(\"File loaded successfully!\")\n",
        "    print(df.head())  # Display the first few rows\n",
        "except FileNotFoundError:\n",
        "    print(\"File not found! Please ensure the file name is correct and uploaded properly.\")\n"
      ],
      "metadata": {
        "colab": {
          "base_uri": "https://localhost:8080/"
        },
        "id": "jvIfBoNT2L15",
        "outputId": "239d0df6-c8f4-4906-bea1-62e6d0b22829"
      },
      "execution_count": 8,
      "outputs": [
        {
          "output_type": "stream",
          "name": "stdout",
          "text": [
            "File loaded successfully!\n",
            "      Name   Age   Salary\n",
            "0    Alice  25.0  50000.0\n",
            "1      Bob  30.0  60000.0\n",
            "2  Charlie   NaN  70000.0\n",
            "3    David  30.0  60000.0\n",
            "4      Eve  22.0      NaN\n"
          ]
        }
      ]
    },
    {
      "cell_type": "code",
      "source": [
        "# Initialize the Data Cleaning Tool with the uploaded file\n",
        "from google.colab import files\n",
        "\n",
        "# Ensure the uploaded file path is used correctly\n",
        "file_path = \"sample_data.csv\"\n",
        "cleaner = DataCleaningTool(file_path)\n"
      ],
      "metadata": {
        "colab": {
          "base_uri": "https://localhost:8080/"
        },
        "id": "EXmqKLO12L8a",
        "outputId": "758c0985-e35a-4b8a-e73c-48f13a52cf35"
      },
      "execution_count": 9,
      "outputs": [
        {
          "output_type": "stream",
          "name": "stdout",
          "text": [
            "Data Loaded Successfully!\n"
          ]
        }
      ]
    },
    {
      "cell_type": "code",
      "source": [
        "cleaner.show_basic_info()\n"
      ],
      "metadata": {
        "colab": {
          "base_uri": "https://localhost:8080/"
        },
        "id": "ssSHWqFl28f6",
        "outputId": "332364d3-faef-4cbf-bd7a-cbc3310bb0a5"
      },
      "execution_count": 10,
      "outputs": [
        {
          "output_type": "stream",
          "name": "stdout",
          "text": [
            "\n",
            "Dataset Information:\n",
            "<class 'pandas.core.frame.DataFrame'>\n",
            "RangeIndex: 6 entries, 0 to 5\n",
            "Data columns (total 3 columns):\n",
            " #   Column  Non-Null Count  Dtype  \n",
            "---  ------  --------------  -----  \n",
            " 0   Name    6 non-null      object \n",
            " 1   Age     5 non-null      float64\n",
            " 2   Salary  5 non-null      float64\n",
            "dtypes: float64(2), object(1)\n",
            "memory usage: 276.0+ bytes\n",
            "None\n",
            "\n",
            "First 5 Rows:\n",
            "      Name   Age   Salary\n",
            "0    Alice  25.0  50000.0\n",
            "1      Bob  30.0  60000.0\n",
            "2  Charlie   NaN  70000.0\n",
            "3    David  30.0  60000.0\n",
            "4      Eve  22.0      NaN\n"
          ]
        }
      ]
    },
    {
      "cell_type": "code",
      "source": [
        "# You can change the strategy to 'mean', 'median', 'mode', or 'constant'\n",
        "cleaner.handle_missing_values(strategy='median')\n"
      ],
      "metadata": {
        "colab": {
          "base_uri": "https://localhost:8080/"
        },
        "id": "kH07rusr28iT",
        "outputId": "28fc64db-a30f-4ce9-a32a-4139cf80a0e0"
      },
      "execution_count": 11,
      "outputs": [
        {
          "output_type": "stream",
          "name": "stdout",
          "text": [
            "\n",
            "Handling Missing Values...\n",
            "Missing values handled with strategy: median\n"
          ]
        }
      ]
    },
    {
      "cell_type": "code",
      "source": [
        "cleaner.remove_duplicates()\n"
      ],
      "metadata": {
        "colab": {
          "base_uri": "https://localhost:8080/"
        },
        "id": "xiZIuEd73CbJ",
        "outputId": "314aff58-ce63-41e3-a6dd-179289b5c6ab"
      },
      "execution_count": 12,
      "outputs": [
        {
          "output_type": "stream",
          "name": "stdout",
          "text": [
            "\n",
            "Removing Duplicates...\n",
            "Removed 1 duplicate rows.\n"
          ]
        }
      ]
    },
    {
      "cell_type": "code",
      "source": [
        "# Make sure column names and target data types are correct\n",
        "cleaner.convert_data_types({'Age': 'int', 'Salary': 'float'})\n"
      ],
      "metadata": {
        "colab": {
          "base_uri": "https://localhost:8080/"
        },
        "id": "ICD3OlEE3ChB",
        "outputId": "e6eb740b-2bee-4027-ccdb-1ffb2604c84d"
      },
      "execution_count": 13,
      "outputs": [
        {
          "output_type": "stream",
          "name": "stdout",
          "text": [
            "\n",
            "Converting Data Types...\n",
            "Converted Age to int\n",
            "Converted Salary to float\n"
          ]
        }
      ]
    },
    {
      "cell_type": "code",
      "source": [
        "# Apply outlier removal on the 'Salary' column\n",
        "cleaner.detect_and_remove_outliers(column='Salary')\n"
      ],
      "metadata": {
        "colab": {
          "base_uri": "https://localhost:8080/"
        },
        "id": "6wDZQUpC3ClS",
        "outputId": "ec304f13-8f12-4451-bab3-b48ba9496652"
      },
      "execution_count": 14,
      "outputs": [
        {
          "output_type": "stream",
          "name": "stdout",
          "text": [
            "\n",
            "Detecting and Removing Outliers in Salary...\n",
            "Removed 2 outliers from Salary.\n"
          ]
        }
      ]
    },
    {
      "cell_type": "code",
      "source": [
        "cleaner.standardize_column_names()\n"
      ],
      "metadata": {
        "colab": {
          "base_uri": "https://localhost:8080/"
        },
        "id": "M2Ct2W8M3PDi",
        "outputId": "683a2770-386e-4f40-fb8e-485986771376"
      },
      "execution_count": 15,
      "outputs": [
        {
          "output_type": "stream",
          "name": "stdout",
          "text": [
            "\n",
            "Standardizing Column Names...\n",
            "Column names standardized!\n"
          ]
        }
      ]
    },
    {
      "cell_type": "code",
      "source": [
        "cleaner.save_clean_data('cleaned_data.csv')\n"
      ],
      "metadata": {
        "colab": {
          "base_uri": "https://localhost:8080/"
        },
        "id": "7JFG_gOq3PJx",
        "outputId": "f977e855-ce8f-4faa-8b4b-bd2c419fce09"
      },
      "execution_count": 16,
      "outputs": [
        {
          "output_type": "stream",
          "name": "stdout",
          "text": [
            "\n",
            "Saving cleaned data to cleaned_data.csv...\n",
            "Data saved successfully!\n"
          ]
        }
      ]
    },
    {
      "cell_type": "code",
      "source": [
        "from google.colab import files\n",
        "\n",
        "# Download the cleaned CSV file to your local machine\n",
        "files.download('cleaned_data.csv')\n"
      ],
      "metadata": {
        "colab": {
          "base_uri": "https://localhost:8080/",
          "height": 17
        },
        "id": "rEb9fJZr3POp",
        "outputId": "a7f720d1-9a7a-4504-d4fe-261d92cb3f83"
      },
      "execution_count": 17,
      "outputs": [
        {
          "output_type": "display_data",
          "data": {
            "text/plain": [
              "<IPython.core.display.Javascript object>"
            ],
            "application/javascript": [
              "\n",
              "    async function download(id, filename, size) {\n",
              "      if (!google.colab.kernel.accessAllowed) {\n",
              "        return;\n",
              "      }\n",
              "      const div = document.createElement('div');\n",
              "      const label = document.createElement('label');\n",
              "      label.textContent = `Downloading \"${filename}\": `;\n",
              "      div.appendChild(label);\n",
              "      const progress = document.createElement('progress');\n",
              "      progress.max = size;\n",
              "      div.appendChild(progress);\n",
              "      document.body.appendChild(div);\n",
              "\n",
              "      const buffers = [];\n",
              "      let downloaded = 0;\n",
              "\n",
              "      const channel = await google.colab.kernel.comms.open(id);\n",
              "      // Send a message to notify the kernel that we're ready.\n",
              "      channel.send({})\n",
              "\n",
              "      for await (const message of channel.messages) {\n",
              "        // Send a message to notify the kernel that we're ready.\n",
              "        channel.send({})\n",
              "        if (message.buffers) {\n",
              "          for (const buffer of message.buffers) {\n",
              "            buffers.push(buffer);\n",
              "            downloaded += buffer.byteLength;\n",
              "            progress.value = downloaded;\n",
              "          }\n",
              "        }\n",
              "      }\n",
              "      const blob = new Blob(buffers, {type: 'application/binary'});\n",
              "      const a = document.createElement('a');\n",
              "      a.href = window.URL.createObjectURL(blob);\n",
              "      a.download = filename;\n",
              "      div.appendChild(a);\n",
              "      a.click();\n",
              "      div.remove();\n",
              "    }\n",
              "  "
            ]
          },
          "metadata": {}
        },
        {
          "output_type": "display_data",
          "data": {
            "text/plain": [
              "<IPython.core.display.Javascript object>"
            ],
            "application/javascript": [
              "download(\"download_908be303-33a4-49ea-a761-f38dcea87014\", \"cleaned_data.csv\", 63)"
            ]
          },
          "metadata": {}
        }
      ]
    },
    {
      "cell_type": "code",
      "source": [
        "# Read and display the cleaned data\n",
        "cleaned_df = pd.read_csv('cleaned_data.csv')\n",
        "print(cleaned_df.head())\n"
      ],
      "metadata": {
        "colab": {
          "base_uri": "https://localhost:8080/"
        },
        "id": "B6ZIu5jA37yi",
        "outputId": "37eb41f4-37cc-45e4-bbef-e8381825dd49"
      },
      "execution_count": 18,
      "outputs": [
        {
          "output_type": "stream",
          "name": "stdout",
          "text": [
            "    name  age   salary\n",
            "0    Bob   30  60000.0\n",
            "1  David   30  60000.0\n",
            "2    Eve   22  60000.0\n"
          ]
        }
      ]
    }
  ]
}